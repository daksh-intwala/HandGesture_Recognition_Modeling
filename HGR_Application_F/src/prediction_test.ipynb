{
  "cells": [
    {
      "cell_type": "code",
      "execution_count": 1,
      "metadata": {
        "id": "WJbDOFeolIKK"
      },
      "outputs": [],
      "source": [
        "import pandas as pd\n",
        "import numpy as np"
      ]
    },
    {
      "cell_type": "code",
      "execution_count": 2,
      "metadata": {
        "colab": {
          "base_uri": "https://localhost:8080/"
        },
        "id": "r2iPhUq7mAor",
        "outputId": "f50c7afc-6b7a-4afc-88c6-29a8b6abadf9"
      },
      "outputs": [
        {
          "name": "stdout",
          "output_type": "stream",
          "text": [
            "Drive already mounted at /content/drive; to attempt to forcibly remount, call drive.mount(\"/content/drive\", force_remount=True).\n"
          ]
        }
      ],
      "source": [
        "from google.colab import drive\n",
        "drive.mount('/content/drive')"
      ]
    },
    {
      "attachments": {},
      "cell_type": "markdown",
      "metadata": {
        "id": "zHl7_cddqW3X"
      },
      "source": [
        "Importing Training Data"
      ]
    },
    {
      "cell_type": "code",
      "execution_count": 3,
      "metadata": {
        "id": "jniyIthXjLnM"
      },
      "outputs": [],
      "source": [
        "x_train = pd.read_csv(\"/content/drive/MyDrive/Datasets/Capstone/train_approach2.csv\")"
      ]
    },
    {
      "cell_type": "code",
      "execution_count": 4,
      "metadata": {
        "colab": {
          "base_uri": "https://localhost:8080/"
        },
        "id": "vPgNUxY7nT4t",
        "outputId": "86343075-fa19-4210-ab74-82f63dce5089"
      },
      "outputs": [
        {
          "data": {
            "text/plain": [
              "(6696, 127)"
            ]
          },
          "execution_count": 4,
          "metadata": {},
          "output_type": "execute_result"
        }
      ],
      "source": [
        "x_train.shape"
      ]
    },
    {
      "cell_type": "code",
      "execution_count": 5,
      "metadata": {
        "colab": {
          "base_uri": "https://localhost:8080/"
        },
        "id": "Jm8i8Q64nfIc",
        "outputId": "b4e693cd-6864-438d-c83a-ed303e969cc1"
      },
      "outputs": [
        {
          "data": {
            "text/plain": [
              "(6696, 126)"
            ]
          },
          "execution_count": 5,
          "metadata": {},
          "output_type": "execute_result"
        }
      ],
      "source": [
        "x_train = x_train.iloc[: , :-1].to_numpy()\n",
        "x_train.shape"
      ]
    },
    {
      "attachments": {},
      "cell_type": "markdown",
      "metadata": {
        "id": "LIBg9ol9qjav"
      },
      "source": [
        "Importing Testing Data"
      ]
    },
    {
      "cell_type": "code",
      "execution_count": 6,
      "metadata": {
        "id": "FGtpnym_lBCt"
      },
      "outputs": [],
      "source": [
        "x_test = pd.read_csv(\"/content/drive/MyDrive/Datasets/Capstone/test_approach2.csv\")"
      ]
    },
    {
      "cell_type": "code",
      "execution_count": 7,
      "metadata": {
        "colab": {
          "base_uri": "https://localhost:8080/"
        },
        "id": "oasNHuWpnVmU",
        "outputId": "319614fe-8ffc-44ef-ed62-27712563feec"
      },
      "outputs": [
        {
          "data": {
            "text/plain": [
              "(1674, 127)"
            ]
          },
          "execution_count": 7,
          "metadata": {},
          "output_type": "execute_result"
        }
      ],
      "source": [
        "x_test.shape"
      ]
    },
    {
      "cell_type": "code",
      "execution_count": 8,
      "metadata": {
        "colab": {
          "base_uri": "https://localhost:8080/"
        },
        "id": "Qqyfx8xEn3Qc",
        "outputId": "91cccb94-ddc0-4220-d9bd-2f0919e3938d"
      },
      "outputs": [
        {
          "data": {
            "text/plain": [
              "(1674, 126)"
            ]
          },
          "execution_count": 8,
          "metadata": {},
          "output_type": "execute_result"
        }
      ],
      "source": [
        "x_test = x_test.iloc[: , :-1].to_numpy()\n",
        "x_test.shape"
      ]
    },
    {
      "cell_type": "code",
      "execution_count": 9,
      "metadata": {
        "id": "euD-G_WNn67F"
      },
      "outputs": [],
      "source": [
        "train_y = []\n",
        "for i in range(0,216):\n",
        "  train_y = np.append(train_y,1).astype(int)\n",
        "for i in range(0,216):\n",
        "  train_y = np.append(train_y,2).astype(int)\n",
        "for i in range(0,216):\n",
        "  train_y = np.append(train_y,3).astype(int)\n",
        "for i in range(0,216):\n",
        "  train_y = np.append(train_y,4).astype(int)\n",
        "for i in range(0,216):\n",
        "  train_y = np.append(train_y,5).astype(int)\n",
        "for i in range(0,216):\n",
        "  train_y = np.append(train_y,6).astype(int)\n",
        "for i in range(0,216):\n",
        "  train_y = np.append(train_y,7).astype(int)\n",
        "for i in range(0,216):\n",
        "  train_y = np.append(train_y,8).astype(int)\n",
        "for i in range(0,216):\n",
        "  train_y = np.append(train_y,9).astype(int)"
      ]
    },
    {
      "cell_type": "code",
      "execution_count": 10,
      "metadata": {
        "colab": {
          "base_uri": "https://localhost:8080/"
        },
        "id": "bPx-T-evoUv7",
        "outputId": "c9d71400-c29b-450d-cf32-fced05324bad"
      },
      "outputs": [
        {
          "data": {
            "text/plain": [
              "(1944,)"
            ]
          },
          "execution_count": 10,
          "metadata": {},
          "output_type": "execute_result"
        }
      ],
      "source": [
        "train_y.shape"
      ]
    },
    {
      "cell_type": "code",
      "execution_count": null,
      "metadata": {
        "colab": {
          "base_uri": "https://localhost:8080/"
        },
        "id": "fzxHePDVob5v",
        "outputId": "965167a5-f483-4509-965e-d59434f3a90b"
      },
      "outputs": [
        {
          "data": {
            "text/plain": [
              "(486,)"
            ]
          },
          "execution_count": 11,
          "metadata": {},
          "output_type": "execute_result"
        }
      ],
      "source": [
        "test_y = []\n",
        "for i in range(0,54):\n",
        "  test_y = np.append(test_y,1).astype(int)\n",
        "for i in range(0,54):\n",
        "  test_y = np.append(test_y,2).astype(int)\n",
        "for i in range(0,54):\n",
        "  test_y = np.append(test_y,3).astype(int)\n",
        "for i in range(0,54):\n",
        "  test_y = np.append(test_y,4).astype(int)\n",
        "for i in range(0,54):\n",
        "  test_y = np.append(test_y,5).astype(int)\n",
        "for i in range(0,54):\n",
        "  test_y = np.append(test_y,6).astype(int)\n",
        "for i in range(0,54):\n",
        "  test_y = np.append(test_y,7).astype(int)\n",
        "for i in range(0,54):\n",
        "  test_y = np.append(test_y,8).astype(int)\n",
        "for i in range(0,54):\n",
        "  test_y = np.append(test_y,9).astype(int)\n",
        "test_y.shape"
      ]
    },
    {
      "cell_type": "code",
      "execution_count": null,
      "metadata": {},
      "outputs": [],
      "source": []
    },
    {
      "attachments": {},
      "cell_type": "markdown",
      "metadata": {
        "id": "WL8Yrqo7oiOI"
      },
      "source": [
        "Reshaping Training Data"
      ]
    },
    {
      "cell_type": "code",
      "execution_count": 12,
      "metadata": {
        "colab": {
          "base_uri": "https://localhost:8080/"
        },
        "id": "WkG7X3Xdohly",
        "outputId": "a2503e59-dcf5-4e70-d1e9-e4b833f6af21"
      },
      "outputs": [
        {
          "data": {
            "text/plain": [
              "(216, 31, 126)"
            ]
          },
          "execution_count": 12,
          "metadata": {},
          "output_type": "execute_result"
        }
      ],
      "source": [
        "x_train = x_train.reshape(216,31,126)\n",
        "x_train.shape"
      ]
    },
    {
      "cell_type": "code",
      "execution_count": 13,
      "metadata": {
        "colab": {
          "base_uri": "https://localhost:8080/"
        },
        "id": "bd_6ibS1osu2",
        "outputId": "73518496-0d0b-41d3-d0ed-3a4811bfa808"
      },
      "outputs": [
        {
          "data": {
            "text/plain": [
              "(216, 9)"
            ]
          },
          "execution_count": 13,
          "metadata": {},
          "output_type": "execute_result"
        }
      ],
      "source": [
        "train_y = train_y.reshape(216,9)\n",
        "train_y.shape"
      ]
    },
    {
      "attachments": {},
      "cell_type": "markdown",
      "metadata": {
        "id": "EiFQtAidou0K"
      },
      "source": [
        "Reshaping Testing Data"
      ]
    },
    {
      "cell_type": "code",
      "execution_count": 14,
      "metadata": {
        "colab": {
          "base_uri": "https://localhost:8080/"
        },
        "id": "0AkMZeNtotnV",
        "outputId": "680e13e5-c405-400d-fdb2-1e6bd734f109"
      },
      "outputs": [
        {
          "data": {
            "text/plain": [
              "(54, 31, 126)"
            ]
          },
          "execution_count": 14,
          "metadata": {},
          "output_type": "execute_result"
        }
      ],
      "source": [
        "x_test = x_test.reshape(54,31,126)\n",
        "x_test.shape"
      ]
    },
    {
      "cell_type": "code",
      "execution_count": 15,
      "metadata": {
        "colab": {
          "base_uri": "https://localhost:8080/"
        },
        "id": "jTscm87Ko0pm",
        "outputId": "f31c8b95-235e-4664-a278-b017fc084353"
      },
      "outputs": [
        {
          "data": {
            "text/plain": [
              "(54, 9)"
            ]
          },
          "execution_count": 15,
          "metadata": {},
          "output_type": "execute_result"
        }
      ],
      "source": [
        "test_y = test_y.reshape(54,9)\n",
        "test_y.shape"
      ]
    },
    {
      "attachments": {},
      "cell_type": "markdown",
      "metadata": {
        "id": "Sg7O414jpCco"
      },
      "source": [
        "Model Generation"
      ]
    },
    {
      "cell_type": "code",
      "execution_count": 16,
      "metadata": {
        "id": "0HY62p_BpAl2"
      },
      "outputs": [],
      "source": [
        "from tensorflow.keras.models import Sequential\n",
        "from tensorflow.keras.layers import LSTM, Dense, Dropout, BatchNormalization, Activation\n",
        "from tensorflow.keras.callbacks import TensorBoard"
      ]
    },
    {
      "cell_type": "code",
      "execution_count": 17,
      "metadata": {
        "id": "8cugdh-SpnX1"
      },
      "outputs": [],
      "source": [
        "from tensorflow.keras.callbacks import ModelCheckpoint"
      ]
    },
    {
      "cell_type": "code",
      "execution_count": 18,
      "metadata": {
        "colab": {
          "base_uri": "https://localhost:8080/"
        },
        "id": "lIpenLuhJY4x",
        "outputId": "47a20faf-c095-43d0-cb9f-e57bdf545604"
      },
      "outputs": [
        {
          "name": "stdout",
          "output_type": "stream",
          "text": [
            "Model: \"sequential\"\n",
            "_________________________________________________________________\n",
            " Layer (type)                Output Shape              Param #   \n",
            "=================================================================\n",
            " lstm (LSTM)                 (None, 31, 256)           392192    \n",
            "                                                                 \n",
            " dropout (Dropout)           (None, 31, 256)           0         \n",
            "                                                                 \n",
            " lstm_1 (LSTM)               (None, 31, 256)           525312    \n",
            "                                                                 \n",
            " dropout_1 (Dropout)         (None, 31, 256)           0         \n",
            "                                                                 \n",
            " lstm_2 (LSTM)               (None, 128)               197120    \n",
            "                                                                 \n",
            " dense (Dense)               (None, 64)                8256      \n",
            "                                                                 \n",
            " batch_normalization (BatchN  (None, 64)               256       \n",
            " ormalization)                                                   \n",
            "                                                                 \n",
            " activation (Activation)     (None, 64)                0         \n",
            "                                                                 \n",
            " dense_1 (Dense)             (None, 9)                 585       \n",
            "                                                                 \n",
            "=================================================================\n",
            "Total params: 1,123,721\n",
            "Trainable params: 1,123,593\n",
            "Non-trainable params: 128\n",
            "_________________________________________________________________\n"
          ]
        }
      ],
      "source": [
        "def create_model():\n",
        "  max_len=31\n",
        "  feature_len=126\n",
        "  classes_len= 216 # len(x_train)\n",
        "  model = Sequential()\n",
        "  model.add(LSTM(256, return_sequences=True, input_shape=(max_len, feature_len)))\n",
        "  model.add(Dropout(0.25))\n",
        "  model.add(LSTM(256, return_sequences=True))\n",
        "  model.add(Dropout(0.25))\n",
        "  model.add(LSTM(128, return_sequences=False))\n",
        "  model.add(Dense(64))\n",
        "  model.add(BatchNormalization())\n",
        "  model.add(Activation('relu'))\n",
        "  model.add(Dense(9, activation='softmax'))\n",
        "  model.compile(loss='categorical_crossentropy', optimizer='adam', metrics=['accuracy'])\n",
        "  return model\n",
        "model_11 = create_model()\n",
        "model_11.summary()"
      ]
    },
    {
      "cell_type": "code",
      "execution_count": 19,
      "metadata": {
        "id": "c_zB4kX3cvrT"
      },
      "outputs": [],
      "source": [
        "import os\n",
        "import tensorflow"
      ]
    },
    {
      "cell_type": "code",
      "execution_count": 20,
      "metadata": {
        "colab": {
          "base_uri": "https://localhost:8080/"
        },
        "id": "ycmdk4WUI_A7",
        "outputId": "42e0e1c0-5aef-42f0-a573-8e959bb78b52"
      },
      "outputs": [
        {
          "name": "stdout",
          "output_type": "stream",
          "text": [
            "Epoch 1/10\n",
            "7/7 [==============================] - ETA: 0s - loss: 110.9289 - accuracy: 0.5694\n",
            "Epoch 1: saving model to training_6/cp.ckpt\n",
            "7/7 [==============================] - 19s 795ms/step - loss: 110.9289 - accuracy: 0.5694 - val_loss: 100.5029 - val_accuracy: 1.0000\n",
            "Epoch 2/10\n",
            "7/7 [==============================] - ETA: 0s - loss: 113.4731 - accuracy: 0.6574\n",
            "Epoch 2: saving model to training_6/cp.ckpt\n",
            "7/7 [==============================] - 4s 522ms/step - loss: 113.4731 - accuracy: 0.6574 - val_loss: 101.8845 - val_accuracy: 0.5926\n",
            "Epoch 3/10\n",
            "7/7 [==============================] - ETA: 0s - loss: 114.0619 - accuracy: 0.6898\n",
            "Epoch 3: saving model to training_6/cp.ckpt\n",
            "7/7 [==============================] - 3s 425ms/step - loss: 114.0619 - accuracy: 0.6898 - val_loss: 100.2172 - val_accuracy: 0.3704\n",
            "Epoch 4/10\n",
            "7/7 [==============================] - ETA: 0s - loss: 117.0965 - accuracy: 0.5324\n",
            "Epoch 4: saving model to training_6/cp.ckpt\n",
            "7/7 [==============================] - 3s 412ms/step - loss: 117.0965 - accuracy: 0.5324 - val_loss: 99.9351 - val_accuracy: 0.3704\n",
            "Epoch 5/10\n",
            "7/7 [==============================] - ETA: 0s - loss: 120.1325 - accuracy: 0.4907\n",
            "Epoch 5: saving model to training_6/cp.ckpt\n",
            "7/7 [==============================] - 3s 423ms/step - loss: 120.1325 - accuracy: 0.4907 - val_loss: 101.8008 - val_accuracy: 0.5000\n",
            "Epoch 6/10\n",
            "7/7 [==============================] - ETA: 0s - loss: 119.9075 - accuracy: 0.7037\n",
            "Epoch 6: saving model to training_6/cp.ckpt\n",
            "7/7 [==============================] - 5s 681ms/step - loss: 119.9075 - accuracy: 0.7037 - val_loss: 104.0678 - val_accuracy: 0.5741\n",
            "Epoch 7/10\n",
            "7/7 [==============================] - ETA: 0s - loss: 116.3378 - accuracy: 0.6852\n",
            "Epoch 7: saving model to training_6/cp.ckpt\n",
            "7/7 [==============================] - 3s 421ms/step - loss: 116.3378 - accuracy: 0.6852 - val_loss: 103.0940 - val_accuracy: 0.3889\n",
            "Epoch 8/10\n",
            "7/7 [==============================] - ETA: 0s - loss: 119.0272 - accuracy: 0.5741\n",
            "Epoch 8: saving model to training_6/cp.ckpt\n",
            "7/7 [==============================] - 3s 407ms/step - loss: 119.0272 - accuracy: 0.5741 - val_loss: 102.2650 - val_accuracy: 0.2593\n",
            "Epoch 9/10\n",
            "7/7 [==============================] - ETA: 0s - loss: 122.3164 - accuracy: 0.6389\n",
            "Epoch 9: saving model to training_6/cp.ckpt\n",
            "7/7 [==============================] - 3s 428ms/step - loss: 122.3164 - accuracy: 0.6389 - val_loss: 101.8861 - val_accuracy: 0.1111\n",
            "Epoch 10/10\n",
            "7/7 [==============================] - ETA: 0s - loss: 117.6024 - accuracy: 0.6528\n",
            "Epoch 10: saving model to training_6/cp.ckpt\n",
            "7/7 [==============================] - 4s 599ms/step - loss: 117.6024 - accuracy: 0.6528 - val_loss: 101.4016 - val_accuracy: 0.6111\n"
          ]
        },
        {
          "data": {
            "text/plain": [
              "<keras.callbacks.History at 0x7fa3901e8430>"
            ]
          },
          "execution_count": 20,
          "metadata": {},
          "output_type": "execute_result"
        }
      ],
      "source": [
        "checkpoint_path = \"training_6/cp.ckpt\"\n",
        "checkpoint_dir = os.path.dirname(checkpoint_path)\n",
        "\n",
        "# Create a callback that saves the model's weights\n",
        "cp_callback = tensorflow.keras.callbacks.ModelCheckpoint(filepath=checkpoint_path,\n",
        "                                                 save_weights_only=True,\n",
        "                                                 verbose=1)\n",
        "\n",
        "# Train the model with the new callback\n",
        "model_11.fit(x_train, train_y,\n",
        "          epochs=10,\n",
        "          validation_data=(x_test, test_y),\n",
        "          callbacks=[cp_callback])  # Pass callback to training"
      ]
    },
    {
      "cell_type": "code",
      "execution_count": 21,
      "metadata": {
        "colab": {
          "base_uri": "https://localhost:8080/"
        },
        "id": "G_kIps8Xbaxg",
        "outputId": "2a5b1e8f-5fe5-45ad-ff6b-6f685b3e3d6c"
      },
      "outputs": [
        {
          "name": "stdout",
          "output_type": "stream",
          "text": [
            "2/2 - 3s - loss: 101.4016 - accuracy: 0.6111 - 3s/epoch - 2s/step\n",
            "Actual Model, accuracy: 61.11%\n"
          ]
        }
      ],
      "source": [
        "# Actual Model\n",
        "model_11.compile(loss='categorical_crossentropy', optimizer='adam', metrics=['accuracy'])\n",
        "loss, acc = model_11.evaluate(x_test, test_y, verbose=2)\n",
        "print(\"Actual Model, accuracy: {:5.2f}%\".format(100 * acc))"
      ]
    },
    {
      "cell_type": "code",
      "execution_count": 22,
      "metadata": {
        "colab": {
          "base_uri": "https://localhost:8080/"
        },
        "id": "cCtSiG07YkJm",
        "outputId": "d0f905c7-573d-4298-f62c-d14f67de9212"
      },
      "outputs": [
        {
          "name": "stdout",
          "output_type": "stream",
          "text": [
            "Saved model to disk\n"
          ]
        }
      ],
      "source": [
        "model_json = model_11.to_json()\n",
        "with open(\"model_11.json\", \"w\") as json_file:\n",
        "    json_file.write(model_json)\n",
        "# serialize weights to HDF5\n",
        "model_11.save_weights(\"model_11.h5\")\n",
        "print(\"Saved model to disk\")"
      ]
    },
    {
      "cell_type": "code",
      "execution_count": null,
      "metadata": {},
      "outputs": [],
      "source": [
        "test_y = "
      ]
    },
    {
      "cell_type": "code",
      "execution_count": 23,
      "metadata": {
        "id": "Ih5qHUrjZJdZ"
      },
      "outputs": [],
      "source": [
        "from tensorflow.keras.models import model_from_json"
      ]
    },
    {
      "cell_type": "code",
      "execution_count": 24,
      "metadata": {
        "colab": {
          "base_uri": "https://localhost:8080/"
        },
        "id": "QTdhgez6YumE",
        "outputId": "67fd0ff5-391f-4f07-84d5-6ad50e600223"
      },
      "outputs": [
        {
          "name": "stdout",
          "output_type": "stream",
          "text": [
            "Loaded model from disk\n"
          ]
        }
      ],
      "source": [
        "json_file = open('model_11.json', 'r')\n",
        "loaded_model_json = json_file.read()\n",
        "json_file.close()\n",
        "loaded_model = model_from_json(loaded_model_json)\n",
        "# load weights into new model\n",
        "loaded_model.load_weights(\"model_11.h5\")\n",
        "print(\"Loaded model from disk\")"
      ]
    },
    {
      "cell_type": "code",
      "execution_count": 25,
      "metadata": {
        "colab": {
          "base_uri": "https://localhost:8080/"
        },
        "id": "50gamBH-ZXcZ",
        "outputId": "147e3ae5-11ca-45df-a323-a2cad668c5da"
      },
      "outputs": [
        {
          "name": "stdout",
          "output_type": "stream",
          "text": [
            "2/2 - 3s - loss: 101.4016 - accuracy: 0.6111 - 3s/epoch - 1s/step\n",
            "Restored model, accuracy: 61.11%\n"
          ]
        }
      ],
      "source": [
        "# Re-evaluate the model\n",
        "loaded_model.compile(loss='categorical_crossentropy', optimizer='adam', metrics=['accuracy'])\n",
        "loss, acc = loaded_model.evaluate(x_test, test_y, verbose=2)\n",
        "print(\"Restored model, accuracy: {:5.2f}%\".format(100 * acc))"
      ]
    },
    {
      "cell_type": "code",
      "execution_count": 26,
      "metadata": {
        "colab": {
          "base_uri": "https://localhost:8080/"
        },
        "id": "pX1Hq10nmF3C",
        "outputId": "48060d7d-a2ee-4960-e825-ca94124deedc"
      },
      "outputs": [
        {
          "name": "stdout",
          "output_type": "stream",
          "text": [
            "2/2 [==============================] - 2s 75ms/step\n"
          ]
        }
      ],
      "source": [
        "res = loaded_model.predict(x_test)"
      ]
    },
    {
      "cell_type": "code",
      "execution_count": 27,
      "metadata": {
        "id": "CH_PweoKpMOd"
      },
      "outputs": [],
      "source": [
        "actions = ['1','2','3','4','5','6','7','8','9']"
      ]
    },
    {
      "cell_type": "code",
      "execution_count": 28,
      "metadata": {
        "colab": {
          "base_uri": "https://localhost:8080/"
        },
        "id": "L3T474Qzmlpb",
        "outputId": "c9224f57-7087-469f-e7dd-1b1d3f7c1386"
      },
      "outputs": [
        {
          "name": "stdout",
          "output_type": "stream",
          "text": [
            "4\n",
            "4\n",
            "1\n",
            "4\n",
            "4\n",
            "4\n",
            "4\n",
            "4\n",
            "4\n",
            "4\n",
            "4\n",
            "4\n",
            "2\n",
            "1\n",
            "1\n",
            "1\n",
            "1\n",
            "1\n",
            "1\n",
            "1\n",
            "1\n",
            "1\n",
            "1\n",
            "1\n",
            "1\n",
            "1\n",
            "1\n",
            "1\n",
            "1\n",
            "1\n",
            "1\n",
            "1\n",
            "1\n",
            "1\n",
            "1\n",
            "1\n",
            "1\n",
            "1\n",
            "1\n",
            "1\n",
            "1\n",
            "1\n",
            "1\n",
            "1\n",
            "1\n",
            "9\n",
            "9\n",
            "9\n",
            "9\n",
            "9\n",
            "9\n",
            "3\n",
            "9\n",
            "3\n"
          ]
        }
      ],
      "source": [
        "predicted_output = []\n",
        "for i in range(0,54):\n",
        "  print(actions[np.argmax(res[i])])\n",
        "  predicted_output.append(actions[np.argmax(res[i])])"
      ]
    },
    {
      "cell_type": "code",
      "execution_count": 29,
      "metadata": {
        "id": "bNbvvO8YoTAP"
      },
      "outputs": [],
      "source": [
        "from matplotlib import pyplot"
      ]
    },
    {
      "cell_type": "code",
      "execution_count": 30,
      "metadata": {
        "id": "eCizvTR1sSxg"
      },
      "outputs": [],
      "source": [
        "lst2 = [item[0] for item in test_y]"
      ]
    },
    {
      "cell_type": "code",
      "execution_count": 31,
      "metadata": {
        "colab": {
          "base_uri": "https://localhost:8080/",
          "height": 430
        },
        "id": "bwVf83vkrksj",
        "outputId": "fd3efb25-18f8-4d1c-bd13-3627ad80b906"
      },
      "outputs": [
        {
          "data": {
            "image/png": "[encoded data removed]",
            "text/plain": [
              "<Figure size 640x480 with 1 Axes>"
            ]
          },
          "metadata": {},
          "output_type": "display_data"
        }
      ],
      "source": [
        "pyplot.plot(lst2, predicted_output)\n",
        "pyplot.show()"
      ]
    }
  ],
  "metadata": {
    "colab": {
      "provenance": []
    },
    "kernelspec": {
      "display_name": "Python 3",
      "name": "python3"
    },
    "language_info": {
      "name": "python"
    }
  },
  "nbformat": 4,
  "nbformat_minor": 0
}
